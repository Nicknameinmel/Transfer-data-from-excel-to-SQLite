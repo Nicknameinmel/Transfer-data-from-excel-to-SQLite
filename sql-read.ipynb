{
 "cells": [
  {
   "cell_type": "code",
   "execution_count": 80,
   "metadata": {},
   "outputs": [],
   "source": [
    "import sqlite3\n",
    "from sqlite3 import Error\n",
    "import pandas as pd\n",
    "import re\n",
    "import traceback\n",
    "import time \n"
   ]
  },
  {
   "cell_type": "code",
   "execution_count": 88,
   "metadata": {},
   "outputs": [
    {
     "name": "stdout",
     "output_type": "stream",
     "text": [
      "Connection to SQLite DB successful\n"
     ]
    }
   ],
   "source": [
    "def create_connection(path):\n",
    "    connection = None\n",
    "    try:\n",
    "        connection = sqlite3.connect(path)\n",
    "        print(\"Connection to SQLite DB successful\")\n",
    "    except Error as e:\n",
    "        print(f\"Error'{e}' occurred\")\n",
    "\n",
    "    return connection\n",
    "\n",
    "connection = create_connection(r\"C:\\Users\\kyle.liu\\DataGripProjects\\Check_Com\\save.sqlite\")\n",
    "ticks = time.time()\n"
   ]
  },
  {
   "cell_type": "code",
   "execution_count": 78,
   "metadata": {},
   "outputs": [],
   "source": [
    "'''\n",
    "xl = pd.ExcelFile('C3321600.xlsx')\n",
    "sheet_names = xl.sheet_names \n",
    "for i in sheet_names:\n",
    "        input = xl.parse(i)\n",
    "        input = input.drop_duplicates()\n",
    "        input = input.replace('\\n', '').replace(' ', '').replace('\\t', '').replace('\\r', '')\n",
    "        input.to_sql(i, connection, if_exists='replace', index=False)\n",
    "'''"
   ]
  },
  {
   "cell_type": "code",
   "execution_count": 87,
   "metadata": {},
   "outputs": [],
   "source": [
    "cursor = connection.cursor()\n",
    "cursor.execute(\"SELECT name FROM sqlite_master WHERE type='table' ORDER by name\")\n",
    "tables_name = cursor.fetchall()\n",
    "array1 = []\n",
    "for tnames in tables_name:\n",
    "    try:\n",
    "        sql = \"SELECT * FROM \" + tnames[0]\n",
    "        data_sql = pd.read_sql(sql,con = connection)\n",
    "        input = pd.read_excel('C3321600.xlsx',tnames[0])#read excel\n",
    "        input = input.drop_duplicates()\n",
    "        input = input.replace('\\n', '').replace(' ', '').replace('\\t', '').replace('\\r', '')\n",
    "        output = pd.concat([input,data_sql],join = 'inner')\n",
    "        input.to_sql(tnames[0], connection, if_exists='replace', index=False)\n",
    "        addprimarykey1 = f'''create table {tnames[0]+str('_dg_tmp')} (ID   INTEGER constraint {tnames[0]+str('_pk')} primary key, 目标公司 TEXT,{tnames[0]} TEXT);'''\n",
    "        addprimarykey2 = f'''insert into  {tnames[0]+str('_dg_tmp')}(ID, 目标公司, {tnames[0]}) select ID, 目标公司, {tnames[0]} from {tnames[0]};'''\n",
    "        addprimarykey3 = f'''drop table {tnames[0]};'''\n",
    "        addprimarykey4 = f'''alter table  {tnames[0]+str('_dg_tmp')} rename to {tnames[0]};'''\n",
    "        cursor.execute(addprimarykey1)\n",
    "        cursor.execute(addprimarykey2)\n",
    "        cursor.execute(addprimarykey3)\n",
    "        cursor.execute(addprimarykey4)\n",
    "        connection.commit()\n",
    "    except Exception as e:\n",
    "        print(traceback.format_exc())\n",
    "        error_doc = pd.DataFrame({\"error\": [e], \"table\": [tnames[0]],'time':[ticks]})\n",
    "        error_doc.to_csv('error.csv', mode='a', header = False,index=False)\n",
    "        print(f\"Error '{e}' occurred,please check table{tnames[0]}\")\n",
    "        continue\n"
   ]
  },
  {
   "cell_type": "code",
   "execution_count": null,
   "metadata": {},
   "outputs": [],
   "source": []
  }
 ],
 "metadata": {
  "interpreter": {
   "hash": "a535ddd48ce46aceac455afcde905fcc377505fdf845f7faecb30d4cf208dd92"
  },
  "kernelspec": {
   "display_name": "Python 3.8.8 ('base')",
   "language": "python",
   "name": "python3"
  },
  "language_info": {
   "codemirror_mode": {
    "name": "ipython",
    "version": 3
   },
   "file_extension": ".py",
   "mimetype": "text/x-python",
   "name": "python",
   "nbconvert_exporter": "python",
   "pygments_lexer": "ipython3",
   "version": "3.8.8"
  },
  "orig_nbformat": 4
 },
 "nbformat": 4,
 "nbformat_minor": 2
}
